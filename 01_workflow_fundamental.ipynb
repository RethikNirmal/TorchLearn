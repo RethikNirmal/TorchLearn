{
  "nbformat": 4,
  "nbformat_minor": 0,
  "metadata": {
    "colab": {
      "provenance": [],
      "authorship_tag": "ABX9TyM0xRy08URmpCR0Axk2+SS4",
      "include_colab_link": true
    },
    "kernelspec": {
      "name": "python3",
      "display_name": "Python 3"
    },
    "language_info": {
      "name": "python"
    }
  },
  "cells": [
    {
      "cell_type": "markdown",
      "metadata": {
        "id": "view-in-github",
        "colab_type": "text"
      },
      "source": [
        "<a href=\"https://colab.research.google.com/github/RethikNirmal/TorchLearn/blob/01_tutorial/01_workflow_fundamental.ipynb\" target=\"_parent\"><img src=\"https://colab.research.google.com/assets/colab-badge.svg\" alt=\"Open In Colab\"/></a>"
      ]
    },
    {
      "cell_type": "code",
      "execution_count": 10,
      "metadata": {
        "id": "tFSx68vCxvDi"
      },
      "outputs": [],
      "source": [
        "import torch\n",
        "from torch import nn"
      ]
    },
    {
      "cell_type": "markdown",
      "source": [
        "## Linear Regression with PyTorch\n",
        "\n",
        "Regression equation is of the form `y = ax + b` where\n",
        "- `x` : Input vector\n",
        "- `a` : Weights\n",
        "- `b` : bias\n",
        "\n",
        "\n",
        "To start off, I will not focus on creating a separate train - validation - test set. I will be starting off with some dummy data, to mimic `y = 2x + 1`. Let's see how that pans out"
      ],
      "metadata": {
        "id": "vxz39xjOyKzE"
      }
    },
    {
      "cell_type": "code",
      "source": [
        "class LinearRegression(torch.nn.Module):\n",
        "  def __init__(self, input_dim):\n",
        "    super(LinearRegression, self).__init__()\n",
        "    self.linear_layer = torch.nn.Parameter( torch.randn(1, dtype= torch.float), requires_grad = True)\n",
        "    self.bias = torch.nn.Parameter(torch.randn(1,dtype=torch.float),\n",
        "                                   requires_grad = True)\n",
        "\n",
        "\n",
        "  def forward(self, x: torch.Tensor) -> torch.Tensor:\n",
        "    return self.linear_layer * x + self.bias"
      ],
      "metadata": {
        "id": "0G-2NrahyPKT"
      },
      "execution_count": 11,
      "outputs": []
    },
    {
      "cell_type": "code",
      "source": [
        "# Checking out the parameters in the model\n",
        "\n",
        "model_0 = LinearRegression(10)\n",
        "list(model_0.parameters())"
      ],
      "metadata": {
        "colab": {
          "base_uri": "https://localhost:8080/"
        },
        "id": "7IWoqGhq4TQm",
        "outputId": "be4e661c-015f-4778-b6af-ca6edefa2a68"
      },
      "execution_count": 12,
      "outputs": [
        {
          "output_type": "execute_result",
          "data": {
            "text/plain": [
              "[Parameter containing:\n",
              " tensor([-0.6680], requires_grad=True),\n",
              " Parameter containing:\n",
              " tensor([-0.3548], requires_grad=True)]"
            ]
          },
          "metadata": {},
          "execution_count": 12
        }
      ]
    },
    {
      "cell_type": "code",
      "source": [
        "# Considering we are trying to mimix y = 2x\n",
        "\n",
        "\n",
        "x_train = torch.tensor([1,2,3,4,5,6,7,8,9], dtype = torch.float)\n",
        "y_train = torch.tensor([2,4,6,8,10,12,14,16,18], dtype = torch.float)\n",
        "\n",
        "print(x_train.shape, y_train.shape)\n",
        "print(x_train.ndim ,y_train.ndim)\n"
      ],
      "metadata": {
        "colab": {
          "base_uri": "https://localhost:8080/"
        },
        "id": "RjfVDz224mSO",
        "outputId": "46f2ff87-f10c-4fb2-afb1-d200e99f4b00"
      },
      "execution_count": 13,
      "outputs": [
        {
          "output_type": "stream",
          "name": "stdout",
          "text": [
            "torch.Size([9]) torch.Size([9])\n",
            "1 1\n"
          ]
        }
      ]
    },
    {
      "cell_type": "code",
      "source": [
        "l1_loss = torch.nn.MSELoss()\n",
        "optimiser = torch.optim.SGD(model_0.parameters(), lr = 0.01)"
      ],
      "metadata": {
        "id": "qfOhhnV34wSz"
      },
      "execution_count": 14,
      "outputs": []
    },
    {
      "cell_type": "code",
      "source": [
        "# Time to define some configs\n",
        "N_EPOCH = 100\n",
        "\n",
        "for epoch in range(N_EPOCH):\n",
        "  model_0.train()\n",
        "  y_pred= model_0(x_train)\n",
        "  loss = l1_loss(y_pred, y_train)\n",
        "  optimiser.zero_grad()\n",
        "  loss.backward()\n",
        "  optimiser.step()\n",
        "  print(f\"Epoch: {epoch} | Training Loss: {loss}\")"
      ],
      "metadata": {
        "colab": {
          "base_uri": "https://localhost:8080/"
        },
        "id": "t4z5PQNS-O72",
        "outputId": "5f875bb5-55c8-460b-ebca-852bf1cdca00"
      },
      "execution_count": 15,
      "outputs": [
        {
          "output_type": "stream",
          "name": "stdout",
          "text": [
            "Epoch: 0 | Training Loss: 235.01004028320312\n",
            "Epoch: 1 | Training Loss: 28.917049407958984\n",
            "Epoch: 2 | Training Loss: 3.558852195739746\n",
            "Epoch: 3 | Training Loss: 0.4387109577655792\n",
            "Epoch: 4 | Training Loss: 0.05479419603943825\n",
            "Epoch: 5 | Training Loss: 0.007549444679170847\n",
            "Epoch: 6 | Training Loss: 0.0017298063030466437\n",
            "Epoch: 7 | Training Loss: 0.0010071684373542666\n",
            "Epoch: 8 | Training Loss: 0.0009117403533309698\n",
            "Epoch: 9 | Training Loss: 0.0008935497025959194\n",
            "Epoch: 10 | Training Loss: 0.0008849033620208502\n",
            "Epoch: 11 | Training Loss: 0.0008774885209277272\n",
            "Epoch: 12 | Training Loss: 0.0008702694904059172\n",
            "Epoch: 13 | Training Loss: 0.0008631417294964194\n",
            "Epoch: 14 | Training Loss: 0.0008560577407479286\n",
            "Epoch: 15 | Training Loss: 0.0008490451727993786\n",
            "Epoch: 16 | Training Loss: 0.0008420734666287899\n",
            "Epoch: 17 | Training Loss: 0.0008351737633347511\n",
            "Epoch: 18 | Training Loss: 0.0008283284259960055\n",
            "Epoch: 19 | Training Loss: 0.0008215385605581105\n",
            "Epoch: 20 | Training Loss: 0.0008148059714585543\n",
            "Epoch: 21 | Training Loss: 0.0008081202977336943\n",
            "Epoch: 22 | Training Loss: 0.000801501446403563\n",
            "Epoch: 23 | Training Loss: 0.0007949293358251452\n",
            "Epoch: 24 | Training Loss: 0.0007884068763814867\n",
            "Epoch: 25 | Training Loss: 0.000781940994784236\n",
            "Epoch: 26 | Training Loss: 0.0007755321566946805\n",
            "Epoch: 27 | Training Loss: 0.0007691849023103714\n",
            "Epoch: 28 | Training Loss: 0.0007628717576153576\n",
            "Epoch: 29 | Training Loss: 0.0007566186832264066\n",
            "Epoch: 30 | Training Loss: 0.0007504194509238005\n",
            "Epoch: 31 | Training Loss: 0.0007442599162459373\n",
            "Epoch: 32 | Training Loss: 0.0007381610339507461\n",
            "Epoch: 33 | Training Loss: 0.0007321170996874571\n",
            "Epoch: 34 | Training Loss: 0.0007261067512445152\n",
            "Epoch: 35 | Training Loss: 0.000720156473107636\n",
            "Epoch: 36 | Training Loss: 0.0007142526446841657\n",
            "Epoch: 37 | Training Loss: 0.0007083978271111846\n",
            "Epoch: 38 | Training Loss: 0.0007025918457657099\n",
            "Epoch: 39 | Training Loss: 0.0006968280649743974\n",
            "Epoch: 40 | Training Loss: 0.0006911180098541081\n",
            "Epoch: 41 | Training Loss: 0.0006854507955722511\n",
            "Epoch: 42 | Training Loss: 0.0006798238027840853\n",
            "Epoch: 43 | Training Loss: 0.0006742619443684816\n",
            "Epoch: 44 | Training Loss: 0.0006687308778055012\n",
            "Epoch: 45 | Training Loss: 0.0006632559816353023\n",
            "Epoch: 46 | Training Loss: 0.0006578182801604271\n",
            "Epoch: 47 | Training Loss: 0.0006524156196974218\n",
            "Epoch: 48 | Training Loss: 0.0006470773951150477\n",
            "Epoch: 49 | Training Loss: 0.0006417671102099121\n",
            "Epoch: 50 | Training Loss: 0.0006365081062540412\n",
            "Epoch: 51 | Training Loss: 0.0006312790792435408\n",
            "Epoch: 52 | Training Loss: 0.0006261082016862929\n",
            "Epoch: 53 | Training Loss: 0.0006209799321368337\n",
            "Epoch: 54 | Training Loss: 0.0006158880423754454\n",
            "Epoch: 55 | Training Loss: 0.0006108375382609665\n",
            "Epoch: 56 | Training Loss: 0.0006058333092369139\n",
            "Epoch: 57 | Training Loss: 0.0006008676718920469\n",
            "Epoch: 58 | Training Loss: 0.0005959422560408711\n",
            "Epoch: 59 | Training Loss: 0.0005910507752560079\n",
            "Epoch: 60 | Training Loss: 0.0005862083635292947\n",
            "Epoch: 61 | Training Loss: 0.0005814002361148596\n",
            "Epoch: 62 | Training Loss: 0.0005766377435065806\n",
            "Epoch: 63 | Training Loss: 0.000571901211515069\n",
            "Epoch: 64 | Training Loss: 0.000567216076888144\n",
            "Epoch: 65 | Training Loss: 0.0005625702324323356\n",
            "Epoch: 66 | Training Loss: 0.0005579565768130124\n",
            "Epoch: 67 | Training Loss: 0.0005533886724151671\n",
            "Epoch: 68 | Training Loss: 0.0005488503375090659\n",
            "Epoch: 69 | Training Loss: 0.0005443439004011452\n",
            "Epoch: 70 | Training Loss: 0.0005398918874561787\n",
            "Epoch: 71 | Training Loss: 0.0005354596069082618\n",
            "Epoch: 72 | Training Loss: 0.0005310703418217599\n",
            "Epoch: 73 | Training Loss: 0.0005267160595394671\n",
            "Epoch: 74 | Training Loss: 0.0005223967600613832\n",
            "Epoch: 75 | Training Loss: 0.0005181164597161114\n",
            "Epoch: 76 | Training Loss: 0.0005138726555742323\n",
            "Epoch: 77 | Training Loss: 0.0005096569657325745\n",
            "Epoch: 78 | Training Loss: 0.0005054754437878728\n",
            "Epoch: 79 | Training Loss: 0.0005013327463530004\n",
            "Epoch: 80 | Training Loss: 0.0004972241003997624\n",
            "Epoch: 81 | Training Loss: 0.0004931457224301994\n",
            "Epoch: 82 | Training Loss: 0.0004891051794402301\n",
            "Epoch: 83 | Training Loss: 0.0004850937984883785\n",
            "Epoch: 84 | Training Loss: 0.0004811143735423684\n",
            "Epoch: 85 | Training Loss: 0.0004771681851707399\n",
            "Epoch: 86 | Training Loss: 0.00047326000640168786\n",
            "Epoch: 87 | Training Loss: 0.0004693820665124804\n",
            "Epoch: 88 | Training Loss: 0.0004655366064980626\n",
            "Epoch: 89 | Training Loss: 0.0004617164668161422\n",
            "Epoch: 90 | Training Loss: 0.00045793509343639016\n",
            "Epoch: 91 | Training Loss: 0.00045417615910992026\n",
            "Epoch: 92 | Training Loss: 0.0004504546523094177\n",
            "Epoch: 93 | Training Loss: 0.00044676722609438\n",
            "Epoch: 94 | Training Loss: 0.0004430995904840529\n",
            "Epoch: 95 | Training Loss: 0.0004394706920720637\n",
            "Epoch: 96 | Training Loss: 0.00043585977982729673\n",
            "Epoch: 97 | Training Loss: 0.00043229034054093063\n",
            "Epoch: 98 | Training Loss: 0.00042874508653767407\n",
            "Epoch: 99 | Training Loss: 0.00042523571755737066\n"
          ]
        }
      ]
    },
    {
      "cell_type": "code",
      "source": [
        "list(model_0.parameters())"
      ],
      "metadata": {
        "colab": {
          "base_uri": "https://localhost:8080/"
        },
        "id": "wRCJwdx9-uRR",
        "outputId": "21e0fbbe-c8b2-4a22-d10d-3bf28a9b8b76"
      },
      "execution_count": 16,
      "outputs": [
        {
          "output_type": "execute_result",
          "data": {
            "text/plain": [
              "[Parameter containing:\n",
              " tensor([1.9929], requires_grad=True),\n",
              " Parameter containing:\n",
              " tensor([0.0448], requires_grad=True)]"
            ]
          },
          "metadata": {},
          "execution_count": 16
        }
      ]
    },
    {
      "cell_type": "markdown",
      "source": [
        "## Exercise\n"
      ],
      "metadata": {
        "id": "-wOiiR1MI2Zl"
      }
    },
    {
      "cell_type": "markdown",
      "source": [
        "\n",
        "### Step 1\n",
        "1. For training data, create a straight line dataset using the linear regression formula (weight * X + bias)\n",
        "  - Set weight = 0.3 and bias = 0.9, There should be a minimum of 100 datapoints total\n",
        "  - Split data into 80% training and 20% test\n",
        "  - Plot the training and test data for visual clarity"
      ],
      "metadata": {
        "id": "WiyiWQaBKJfQ"
      }
    },
    {
      "cell_type": "code",
      "source": [
        "# Creating a random X with 150 examples\n",
        "torch.manual_seed(70)\n",
        "x = torch.randn(150)\n",
        "y = 0.3 * x + 0.9"
      ],
      "metadata": {
        "id": "x3J9xmoOJXzH"
      },
      "execution_count": 17,
      "outputs": []
    },
    {
      "cell_type": "code",
      "source": [
        "# We will use torch Dataset to load the data into train and test set\n",
        "train_split = int(0.8 * len(x))\n",
        "x_train, y_train = x[:train_split], y[:train_split]\n",
        "x_test, y_test = x[train_split:], y[train_split:]"
      ],
      "metadata": {
        "id": "h6US1T0vKzBX"
      },
      "execution_count": 18,
      "outputs": []
    },
    {
      "cell_type": "code",
      "source": [
        "import matplotlib.pyplot as plt\n",
        "\n",
        "plt.figure( figsize = (10,10))\n",
        "plt.scatter(x_train, y_train, label = \"Training Data\")\n",
        "plt.scatter(x_test, y_test, label = \"Test Data\")"
      ],
      "metadata": {
        "colab": {
          "base_uri": "https://localhost:8080/",
          "height": 848
        },
        "id": "LFDNfqLbWclM",
        "outputId": "433810ed-d19d-4f05-c687-183c4627e401"
      },
      "execution_count": 22,
      "outputs": [
        {
          "output_type": "execute_result",
          "data": {
            "text/plain": [
              "<matplotlib.collections.PathCollection at 0x7d286e9ec850>"
            ]
          },
          "metadata": {},
          "execution_count": 22
        },
        {
          "output_type": "display_data",
          "data": {
            "text/plain": [
              "<Figure size 1000x1000 with 1 Axes>"
            ],
            "image/png": "[encoded data removed]"
          },
          "metadata": {}
        }
      ]
    },
    {
      "cell_type": "markdown",
      "source": [
        "### Step 2\n",
        "2. Build a PyTorch model by subclassing `nn.Module`.\n",
        " - Inside should be a randomly initialised `nn.Parameter()` with `requires_grad = True`, one for weights and one for bias\n",
        " - Implement the forward method to compute the linear regression function you used to create dataset in 1.\n",
        " - Check it's `state_dict()`\n",
        "\n",
        "Note: You are free to use `nn.Linear()` also if needed."
      ],
      "metadata": {
        "id": "QIHfLdf-JYP_"
      }
    },
    {
      "cell_type": "code",
      "source": [
        "class LinearRegressionModel(nn.Module):\n",
        "  def __init__(self):\n",
        "    super().__init__()\n",
        "    self.weights = nn.Parameter(torch.randn(1, dtype = torch.float), requires_grad = True)\n",
        "    self.bias = nn.Parameter(torch.randn(1, dtype = torch.float), requires_grad = True)\n",
        "\n",
        "  def forward(self, x):\n",
        "    return self.weights * x + self.bias"
      ],
      "metadata": {
        "id": "mM0rLh9OJ6tM"
      },
      "execution_count": 28,
      "outputs": []
    },
    {
      "cell_type": "code",
      "source": [
        "model = LinearRegressionModel()\n",
        "model.state_dict()"
      ],
      "metadata": {
        "colab": {
          "base_uri": "https://localhost:8080/"
        },
        "id": "dxG0E_RPWV_x",
        "outputId": "554e2527-064b-4f94-d733-1052cc2362c1"
      },
      "execution_count": 29,
      "outputs": [
        {
          "output_type": "execute_result",
          "data": {
            "text/plain": [
              "OrderedDict([('weights', tensor([-0.3548])), ('bias', tensor([0.4271]))])"
            ]
          },
          "metadata": {},
          "execution_count": 29
        }
      ]
    },
    {
      "cell_type": "markdown",
      "source": [
        "### Step 3\n",
        "\n",
        "3. Create a loss function and optimizer using nn.L1Loss() and torch.optim.SGD(params, lr) respectively.\n",
        " - Set the learning rate of the optimizer to be 0.01 and the parameters to optimize should be the model parameters from the model you created in 2.\n",
        " - Write a training loop to perform the appropriate training steps for 300 epochs.\n",
        " - The training loop should test the model on the test dataset every 20 epochs."
      ],
      "metadata": {
        "id": "pYTnlqYjJ7K8"
      }
    },
    {
      "cell_type": "code",
      "source": [
        "loss_func = nn.L1Loss()\n",
        "optim = torch.optim.SGD(params = model.parameters(), lr = 0.01)"
      ],
      "metadata": {
        "id": "IKpoygYQKEJH"
      },
      "execution_count": 31,
      "outputs": []
    },
    {
      "cell_type": "code",
      "source": [
        "N_EPOCH = 300\n",
        "training_loss = []\n",
        "validation_loss = []\n",
        "for epoch in range(N_EPOCH):\n",
        "  model.train()\n",
        "  y_pred = model(x_train)\n",
        "  loss = loss_func(y_pred, y_train)\n",
        "  optim.zero_grad()\n",
        "  loss.backward()\n",
        "  optim.step()\n",
        "\n",
        "  if epoch % 20 == 0:\n",
        "    model.eval()\n",
        "    with torch.inference_mode():\n",
        "      test_pred = model(x_test)\n",
        "      test_loss = loss_func(test_pred, y_test)\n",
        "      print(f\"Epoch: {epoch} | Training Loss: {loss} | Test Loss: {test_loss}\")\n",
        "      validation_loss.append(test_loss)\n",
        "\n",
        "  training_loss.append(loss)"
      ],
      "metadata": {
        "colab": {
          "base_uri": "https://localhost:8080/"
        },
        "id": "27DgcsrxZje0",
        "outputId": "a344c2a2-5a48-482f-8824-829fb38f1fec"
      },
      "execution_count": 32,
      "outputs": [
        {
          "output_type": "stream",
          "name": "stdout",
          "text": [
            "Epoch: 0 | Training Loss: 0.6828806400299072 | Test Loss: 0.6256995797157288\n",
            "Epoch: 20 | Training Loss: 0.537139356136322 | Test Loss: 0.49506551027297974\n",
            "Epoch: 40 | Training Loss: 0.39452606439590454 | Test Loss: 0.36388662457466125\n",
            "Epoch: 60 | Training Loss: 0.2537064552307129 | Test Loss: 0.23255802690982819\n",
            "Epoch: 80 | Training Loss: 0.11460402607917786 | Test Loss: 0.10148272663354874\n",
            "Epoch: 100 | Training Loss: 0.005673128180205822 | Test Loss: 0.003966956399381161\n",
            "Epoch: 120 | Training Loss: 0.005673128180205822 | Test Loss: 0.003966956399381161\n",
            "Epoch: 140 | Training Loss: 0.005673128180205822 | Test Loss: 0.003966956399381161\n",
            "Epoch: 160 | Training Loss: 0.005673128180205822 | Test Loss: 0.003966956399381161\n",
            "Epoch: 180 | Training Loss: 0.005673128180205822 | Test Loss: 0.003966956399381161\n",
            "Epoch: 200 | Training Loss: 0.005673128180205822 | Test Loss: 0.003966956399381161\n",
            "Epoch: 220 | Training Loss: 0.005673128180205822 | Test Loss: 0.003966956399381161\n",
            "Epoch: 240 | Training Loss: 0.005673128180205822 | Test Loss: 0.003966956399381161\n",
            "Epoch: 260 | Training Loss: 0.005673128180205822 | Test Loss: 0.003966956399381161\n",
            "Epoch: 280 | Training Loss: 0.005673128180205822 | Test Loss: 0.003966956399381161\n"
          ]
        }
      ]
    },
    {
      "cell_type": "code",
      "source": [
        "# Make predictions with the model\n",
        "model.eval()\n",
        "\n",
        "with torch.inference_mode():\n",
        "  y_preds = model(x_test)\n",
        "y_preds\n",
        "\n",
        "\n",
        "plt.scatter(x_test, y_preds, color = 'r')\n",
        "plt.scatter(x_test, y_test, color = 'b')"
      ],
      "metadata": {
        "colab": {
          "base_uri": "https://localhost:8080/",
          "height": 448
        },
        "id": "eUj04HJraDQi",
        "outputId": "1ae481f4-df34-44cd-a7c1-579f1d33967e"
      },
      "execution_count": 35,
      "outputs": [
        {
          "output_type": "execute_result",
          "data": {
            "text/plain": [
              "<matplotlib.collections.PathCollection at 0x7d286e8c0690>"
            ]
          },
          "metadata": {},
          "execution_count": 35
        },
        {
          "output_type": "display_data",
          "data": {
            "text/plain": [
              "<Figure size 640x480 with 1 Axes>"
            ],
            "image/png": "[encoded data removed]"
          },
          "metadata": {}
        }
      ]
    }
  ]
}